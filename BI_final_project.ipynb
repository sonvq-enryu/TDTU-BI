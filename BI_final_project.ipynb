{
  "nbformat": 4,
  "nbformat_minor": 0,
  "metadata": {
    "colab": {
      "name": "BI_final_project.ipynb",
      "provenance": [],
      "collapsed_sections": []
    },
    "kernelspec": {
      "name": "python3",
      "display_name": "Python 3"
    },
    "language_info": {
      "name": "python"
    }
  },
  "cells": [
    {
      "cell_type": "code",
      "metadata": {
        "id": "g7wEDtN4eKad"
      },
      "source": [
        "# import libraries and packages \n",
        "%matplotlib inline\n",
        "\n",
        "import numpy as np\n",
        "import pandas as pd\n",
        "import matplotlib as mpl\n",
        "import matplotlib.pyplot as plt\n",
        "\n",
        "from scipy.stats import uniform, randint\n",
        "from sklearn import model_selection, linear_model, metrics\n",
        "\n",
        "from sklearn.tree import DecisionTreeClassifier\n",
        "from sklearn.linear_model import LogisticRegression\n",
        "from sklearn.neighbors import KNeighborsClassifier\n",
        "\n",
        "from sklearn.model_selection import GridSearchCV, RandomizedSearchCV, train_test_split, StratifiedShuffleSplit, KFold\n",
        "from sklearn.metrics import auc, accuracy_score, confusion_matrix, roc_auc_score, classification_report\n",
        "\n",
        "import xgboost as xgb\n",
        "import seaborn as sns"
      ],
      "execution_count": null,
      "outputs": []
    },
    {
      "cell_type": "code",
      "metadata": {
        "id": "cXvEO_UleSYt"
      },
      "source": [
        "df = pd.read_csv(\"credit_risk_dataset.csv\")"
      ],
      "execution_count": null,
      "outputs": []
    },
    {
      "cell_type": "code",
      "metadata": {
        "colab": {
          "base_uri": "https://localhost:8080/"
        },
        "id": "HqdgIrLliRtp",
        "outputId": "5c06dc32-ef02-47f1-e770-0a9baa22bd6c"
      },
      "source": [
        "df.info()"
      ],
      "execution_count": null,
      "outputs": [
        {
          "output_type": "stream",
          "name": "stdout",
          "text": [
            "<class 'pandas.core.frame.DataFrame'>\n",
            "RangeIndex: 32581 entries, 0 to 32580\n",
            "Data columns (total 12 columns):\n",
            " #   Column                      Non-Null Count  Dtype  \n",
            "---  ------                      --------------  -----  \n",
            " 0   person_age                  32581 non-null  int64  \n",
            " 1   person_income               32581 non-null  int64  \n",
            " 2   person_home_ownership       32581 non-null  object \n",
            " 3   person_emp_length           31686 non-null  float64\n",
            " 4   loan_intent                 32581 non-null  object \n",
            " 5   loan_grade                  32581 non-null  object \n",
            " 6   loan_amnt                   32581 non-null  int64  \n",
            " 7   loan_int_rate               29465 non-null  float64\n",
            " 8   loan_status                 32581 non-null  int64  \n",
            " 9   loan_percent_income         32581 non-null  float64\n",
            " 10  cb_person_default_on_file   32581 non-null  object \n",
            " 11  cb_person_cred_hist_length  32581 non-null  int64  \n",
            "dtypes: float64(3), int64(5), object(4)\n",
            "memory usage: 3.0+ MB\n"
          ]
        }
      ]
    },
    {
      "cell_type": "code",
      "metadata": {
        "id": "-D3eZcvQPefj"
      },
      "source": [
        "copy_df = df.copy()"
      ],
      "execution_count": null,
      "outputs": []
    },
    {
      "cell_type": "code",
      "metadata": {
        "colab": {
          "base_uri": "https://localhost:8080/"
        },
        "id": "90KrY7qvXj5Z",
        "outputId": "a73763da-51f5-457b-945a-f0e142236334"
      },
      "source": [
        "df.shape"
      ],
      "execution_count": null,
      "outputs": [
        {
          "output_type": "execute_result",
          "data": {
            "text/plain": [
              "(32581, 12)"
            ]
          },
          "metadata": {},
          "execution_count": 5
        }
      ]
    },
    {
      "cell_type": "code",
      "metadata": {
        "id": "87vxnU_Bicjl"
      },
      "source": [
        "\"\"\"\n",
        "Person age: tuổi hiện tại\n",
        "Person income: thu nhập hàng năm tại thời điểm cho vay (income/year)\n",
        "Person home ownership: loại hình sỡ hữu nhà (nơi đang sống hiện tại)\n",
        "Person employment length: thời gian làm việc (tính theo năm)\n",
        "Loan intent: mục đích vay\n",
        "Loan amount: số tiền vay / khoản vay\n",
        "Loan interest rate: tỉ lệ lãi suất cho vay\n",
        "loan percent income: tiền vay / thu nhập.\n",
        "cb person default on file: trước đó đã từng vỡ nợ hay chưa.\n",
        "cb person cred hist length: khoản vay trước đó cách khoản vay hiện tại bao nhiêu năm\n",
        "\"\"\""
      ],
      "execution_count": null,
      "outputs": []
    },
    {
      "cell_type": "code",
      "metadata": {
        "colab": {
          "base_uri": "https://localhost:8080/",
          "height": 297
        },
        "id": "JTbP86t9XmiX",
        "outputId": "9f3a28b5-1780-4ce8-e32b-95be9b8413eb"
      },
      "source": [
        "df.describe().T"
      ],
      "execution_count": null,
      "outputs": [
        {
          "output_type": "execute_result",
          "data": {
            "text/html": [
              "<div>\n",
              "<style scoped>\n",
              "    .dataframe tbody tr th:only-of-type {\n",
              "        vertical-align: middle;\n",
              "    }\n",
              "\n",
              "    .dataframe tbody tr th {\n",
              "        vertical-align: top;\n",
              "    }\n",
              "\n",
              "    .dataframe thead th {\n",
              "        text-align: right;\n",
              "    }\n",
              "</style>\n",
              "<table border=\"1\" class=\"dataframe\">\n",
              "  <thead>\n",
              "    <tr style=\"text-align: right;\">\n",
              "      <th></th>\n",
              "      <th>count</th>\n",
              "      <th>mean</th>\n",
              "      <th>std</th>\n",
              "      <th>min</th>\n",
              "      <th>25%</th>\n",
              "      <th>50%</th>\n",
              "      <th>75%</th>\n",
              "      <th>max</th>\n",
              "    </tr>\n",
              "  </thead>\n",
              "  <tbody>\n",
              "    <tr>\n",
              "      <th>person_age</th>\n",
              "      <td>32581.0</td>\n",
              "      <td>27.734600</td>\n",
              "      <td>6.348078</td>\n",
              "      <td>20.00</td>\n",
              "      <td>23.00</td>\n",
              "      <td>26.00</td>\n",
              "      <td>30.00</td>\n",
              "      <td>144.00</td>\n",
              "    </tr>\n",
              "    <tr>\n",
              "      <th>person_income</th>\n",
              "      <td>32581.0</td>\n",
              "      <td>66074.848470</td>\n",
              "      <td>61983.119168</td>\n",
              "      <td>4000.00</td>\n",
              "      <td>38500.00</td>\n",
              "      <td>55000.00</td>\n",
              "      <td>79200.00</td>\n",
              "      <td>6000000.00</td>\n",
              "    </tr>\n",
              "    <tr>\n",
              "      <th>person_emp_length</th>\n",
              "      <td>31686.0</td>\n",
              "      <td>4.789686</td>\n",
              "      <td>4.142630</td>\n",
              "      <td>0.00</td>\n",
              "      <td>2.00</td>\n",
              "      <td>4.00</td>\n",
              "      <td>7.00</td>\n",
              "      <td>123.00</td>\n",
              "    </tr>\n",
              "    <tr>\n",
              "      <th>loan_amnt</th>\n",
              "      <td>32581.0</td>\n",
              "      <td>9589.371106</td>\n",
              "      <td>6322.086646</td>\n",
              "      <td>500.00</td>\n",
              "      <td>5000.00</td>\n",
              "      <td>8000.00</td>\n",
              "      <td>12200.00</td>\n",
              "      <td>35000.00</td>\n",
              "    </tr>\n",
              "    <tr>\n",
              "      <th>loan_int_rate</th>\n",
              "      <td>29465.0</td>\n",
              "      <td>11.011695</td>\n",
              "      <td>3.240459</td>\n",
              "      <td>5.42</td>\n",
              "      <td>7.90</td>\n",
              "      <td>10.99</td>\n",
              "      <td>13.47</td>\n",
              "      <td>23.22</td>\n",
              "    </tr>\n",
              "    <tr>\n",
              "      <th>loan_status</th>\n",
              "      <td>32581.0</td>\n",
              "      <td>0.218164</td>\n",
              "      <td>0.413006</td>\n",
              "      <td>0.00</td>\n",
              "      <td>0.00</td>\n",
              "      <td>0.00</td>\n",
              "      <td>0.00</td>\n",
              "      <td>1.00</td>\n",
              "    </tr>\n",
              "    <tr>\n",
              "      <th>loan_percent_income</th>\n",
              "      <td>32581.0</td>\n",
              "      <td>0.170203</td>\n",
              "      <td>0.106782</td>\n",
              "      <td>0.00</td>\n",
              "      <td>0.09</td>\n",
              "      <td>0.15</td>\n",
              "      <td>0.23</td>\n",
              "      <td>0.83</td>\n",
              "    </tr>\n",
              "    <tr>\n",
              "      <th>cb_person_cred_hist_length</th>\n",
              "      <td>32581.0</td>\n",
              "      <td>5.804211</td>\n",
              "      <td>4.055001</td>\n",
              "      <td>2.00</td>\n",
              "      <td>3.00</td>\n",
              "      <td>4.00</td>\n",
              "      <td>8.00</td>\n",
              "      <td>30.00</td>\n",
              "    </tr>\n",
              "  </tbody>\n",
              "</table>\n",
              "</div>"
            ],
            "text/plain": [
              "                              count          mean  ...       75%         max\n",
              "person_age                  32581.0     27.734600  ...     30.00      144.00\n",
              "person_income               32581.0  66074.848470  ...  79200.00  6000000.00\n",
              "person_emp_length           31686.0      4.789686  ...      7.00      123.00\n",
              "loan_amnt                   32581.0   9589.371106  ...  12200.00    35000.00\n",
              "loan_int_rate               29465.0     11.011695  ...     13.47       23.22\n",
              "loan_status                 32581.0      0.218164  ...      0.00        1.00\n",
              "loan_percent_income         32581.0      0.170203  ...      0.23        0.83\n",
              "cb_person_cred_hist_length  32581.0      5.804211  ...      8.00       30.00\n",
              "\n",
              "[8 rows x 8 columns]"
            ]
          },
          "metadata": {},
          "execution_count": 36
        }
      ]
    },
    {
      "cell_type": "markdown",
      "metadata": {
        "id": "6xZX7bWcgkXl"
      },
      "source": [
        "Từ bảng thống kê trên ta thấy một số điểm vô lý\n",
        "\n",
        "-độ tuổi lớn nhất là 144 => outlier\n",
        "\n",
        "-thời gian làm việc 123 => outlier"
      ]
    },
    {
      "cell_type": "code",
      "metadata": {
        "colab": {
          "base_uri": "https://localhost:8080/"
        },
        "id": "q2H486qtXouw",
        "outputId": "1ba5c60b-4345-4b05-84a8-03950ff8a971"
      },
      "source": [
        "# Phần trăm giá trị NaN trên từng thuộc tính.\n",
        "NaN_percent = df.isnull().sum()\n",
        "NaN_percent"
      ],
      "execution_count": null,
      "outputs": [
        {
          "output_type": "execute_result",
          "data": {
            "text/plain": [
              "person_age                       0\n",
              "person_income                    0\n",
              "person_home_ownership            0\n",
              "person_emp_length              895\n",
              "loan_intent                      0\n",
              "loan_grade                       0\n",
              "loan_amnt                        0\n",
              "loan_int_rate                 3116\n",
              "loan_status                      0\n",
              "loan_percent_income              0\n",
              "cb_person_default_on_file        0\n",
              "cb_person_cred_hist_length       0\n",
              "dtype: int64"
            ]
          },
          "metadata": {},
          "execution_count": 6
        }
      ]
    },
    {
      "cell_type": "markdown",
      "metadata": {
        "id": "Tg2KPQlogybZ"
      },
      "source": [
        "Hai giá trị tồn tại null/NaN là person_emp_length vaf loan_int_rate"
      ]
    },
    {
      "cell_type": "markdown",
      "metadata": {
        "id": "w_yysmCmg5RJ"
      },
      "source": [
        "Dựa vào biểu đồ ta có thể thấy độ tuổi cũng những người trong dataset nằm phần lớn trong khoảng từ 20 đến 60 tuổi, 1 phần nhỏ từ 60->80    \n",
        "Loại bỏ những outlier về độ có độ tuổi > 90 và có số năm làm việc <20.   \n",
        "Loại bỏ những outlier có > 120 năm kinh nghiệm nhưng độ tuổi chỉ ở 20"
      ]
    },
    {
      "cell_type": "code",
      "metadata": {
        "id": "z5C-gh44g5pw"
      },
      "source": [
        "df = df[df[\"person_age\"] < 90]\n",
        "df = df[df[\"person_emp_length\"] < 120]"
      ],
      "execution_count": null,
      "outputs": []
    },
    {
      "cell_type": "markdown",
      "metadata": {
        "id": "Kz-3q5w1m93A"
      },
      "source": [
        "Biểu đồ cho ta thấy được loan_grade được đánh giá tương quan với giá trị loan interest rate."
      ]
    },
    {
      "cell_type": "code",
      "metadata": {
        "id": "ryoGgj_7mg6N"
      },
      "source": [
        "Split data: original\n",
        "train - validation - test => constrain \n",
        "kfold validation = 35000 => 5 tap nho => A B C D E\n",
        "\n",
        "Logistic Regression, Decision Tree (Random Forest), SVM, Neural Network, Kmean.\n",
        "\n",
        "GridSearch, RandomizedSearch\n",
        "\n",
        "Metrics:\n",
        "Accuracy\n",
        "Confusion Matrix\n",
        "Precision/Recall\n",
        "F1 Score / Average Precision / AUC "
      ],
      "execution_count": null,
      "outputs": []
    },
    {
      "cell_type": "code",
      "metadata": {
        "colab": {
          "base_uri": "https://localhost:8080/"
        },
        "id": "Wv83DjZ3XJpi",
        "outputId": "65b9687f-3e0e-487d-abde-f31eb91ef7c9"
      },
      "source": [
        "df[df[\"loan_status\"] == 1].shape[0], df[df[\"loan_status\"] == 0].shape[0]"
      ],
      "execution_count": null,
      "outputs": [
        {
          "output_type": "execute_result",
          "data": {
            "text/plain": [
              "(7108, 25473)"
            ]
          },
          "metadata": {},
          "execution_count": 9
        }
      ]
    },
    {
      "cell_type": "code",
      "metadata": {
        "colab": {
          "base_uri": "https://localhost:8080/",
          "height": 419
        },
        "id": "Ihicxqx5tr7b",
        "outputId": "8e02a638-6e42-4aa1-bfe9-fc308d7e53e6"
      },
      "source": [
        "df.select_dtypes(\"object\")"
      ],
      "execution_count": null,
      "outputs": [
        {
          "output_type": "execute_result",
          "data": {
            "text/html": [
              "<div>\n",
              "<style scoped>\n",
              "    .dataframe tbody tr th:only-of-type {\n",
              "        vertical-align: middle;\n",
              "    }\n",
              "\n",
              "    .dataframe tbody tr th {\n",
              "        vertical-align: top;\n",
              "    }\n",
              "\n",
              "    .dataframe thead th {\n",
              "        text-align: right;\n",
              "    }\n",
              "</style>\n",
              "<table border=\"1\" class=\"dataframe\">\n",
              "  <thead>\n",
              "    <tr style=\"text-align: right;\">\n",
              "      <th></th>\n",
              "      <th>person_home_ownership</th>\n",
              "      <th>loan_intent</th>\n",
              "      <th>loan_grade</th>\n",
              "      <th>cb_person_default_on_file</th>\n",
              "    </tr>\n",
              "  </thead>\n",
              "  <tbody>\n",
              "    <tr>\n",
              "      <th>0</th>\n",
              "      <td>RENT</td>\n",
              "      <td>PERSONAL</td>\n",
              "      <td>D</td>\n",
              "      <td>Y</td>\n",
              "    </tr>\n",
              "    <tr>\n",
              "      <th>1</th>\n",
              "      <td>OWN</td>\n",
              "      <td>EDUCATION</td>\n",
              "      <td>B</td>\n",
              "      <td>N</td>\n",
              "    </tr>\n",
              "    <tr>\n",
              "      <th>2</th>\n",
              "      <td>MORTGAGE</td>\n",
              "      <td>MEDICAL</td>\n",
              "      <td>C</td>\n",
              "      <td>N</td>\n",
              "    </tr>\n",
              "    <tr>\n",
              "      <th>3</th>\n",
              "      <td>RENT</td>\n",
              "      <td>MEDICAL</td>\n",
              "      <td>C</td>\n",
              "      <td>N</td>\n",
              "    </tr>\n",
              "    <tr>\n",
              "      <th>4</th>\n",
              "      <td>RENT</td>\n",
              "      <td>MEDICAL</td>\n",
              "      <td>C</td>\n",
              "      <td>Y</td>\n",
              "    </tr>\n",
              "    <tr>\n",
              "      <th>...</th>\n",
              "      <td>...</td>\n",
              "      <td>...</td>\n",
              "      <td>...</td>\n",
              "      <td>...</td>\n",
              "    </tr>\n",
              "    <tr>\n",
              "      <th>32576</th>\n",
              "      <td>MORTGAGE</td>\n",
              "      <td>PERSONAL</td>\n",
              "      <td>C</td>\n",
              "      <td>N</td>\n",
              "    </tr>\n",
              "    <tr>\n",
              "      <th>32577</th>\n",
              "      <td>MORTGAGE</td>\n",
              "      <td>PERSONAL</td>\n",
              "      <td>A</td>\n",
              "      <td>N</td>\n",
              "    </tr>\n",
              "    <tr>\n",
              "      <th>32578</th>\n",
              "      <td>RENT</td>\n",
              "      <td>HOMEIMPROVEMENT</td>\n",
              "      <td>B</td>\n",
              "      <td>N</td>\n",
              "    </tr>\n",
              "    <tr>\n",
              "      <th>32579</th>\n",
              "      <td>MORTGAGE</td>\n",
              "      <td>PERSONAL</td>\n",
              "      <td>B</td>\n",
              "      <td>N</td>\n",
              "    </tr>\n",
              "    <tr>\n",
              "      <th>32580</th>\n",
              "      <td>RENT</td>\n",
              "      <td>MEDICAL</td>\n",
              "      <td>B</td>\n",
              "      <td>N</td>\n",
              "    </tr>\n",
              "  </tbody>\n",
              "</table>\n",
              "<p>32581 rows × 4 columns</p>\n",
              "</div>"
            ],
            "text/plain": [
              "      person_home_ownership  ... cb_person_default_on_file\n",
              "0                      RENT  ...                         Y\n",
              "1                       OWN  ...                         N\n",
              "2                  MORTGAGE  ...                         N\n",
              "3                      RENT  ...                         N\n",
              "4                      RENT  ...                         Y\n",
              "...                     ...  ...                       ...\n",
              "32576              MORTGAGE  ...                         N\n",
              "32577              MORTGAGE  ...                         N\n",
              "32578                  RENT  ...                         N\n",
              "32579              MORTGAGE  ...                         N\n",
              "32580                  RENT  ...                         N\n",
              "\n",
              "[32581 rows x 4 columns]"
            ]
          },
          "metadata": {},
          "execution_count": 10
        }
      ]
    },
    {
      "cell_type": "code",
      "metadata": {
        "id": "br_q0PnUX5uk",
        "colab": {
          "base_uri": "https://localhost:8080/"
        },
        "outputId": "d74090fe-17df-4da4-962d-9a7f17ed7469"
      },
      "source": [
        "from sklearn.preprocessing import LabelEncoder\n",
        "\n",
        "le = LabelEncoder()\n",
        "le.fit(df[\"person_home_ownership\"])\n",
        "le.classes_\n",
        "le.transform(df[\"person_home_ownership\"])"
      ],
      "execution_count": null,
      "outputs": [
        {
          "output_type": "execute_result",
          "data": {
            "text/plain": [
              "array([3, 2, 0, ..., 3, 0, 3])"
            ]
          },
          "metadata": {},
          "execution_count": 14
        }
      ]
    },
    {
      "cell_type": "code",
      "metadata": {
        "colab": {
          "base_uri": "https://localhost:8080/"
        },
        "id": "PtO83aEgt56r",
        "outputId": "714e846a-5898-4fb0-941a-e0d49007a637"
      },
      "source": [
        "df[\"person_home_ownership\"]"
      ],
      "execution_count": null,
      "outputs": [
        {
          "output_type": "execute_result",
          "data": {
            "text/plain": [
              "0            RENT\n",
              "1             OWN\n",
              "2        MORTGAGE\n",
              "3            RENT\n",
              "4            RENT\n",
              "           ...   \n",
              "32576    MORTGAGE\n",
              "32577    MORTGAGE\n",
              "32578        RENT\n",
              "32579    MORTGAGE\n",
              "32580        RENT\n",
              "Name: person_home_ownership, Length: 32581, dtype: object"
            ]
          },
          "metadata": {},
          "execution_count": 15
        }
      ]
    },
    {
      "cell_type": "code",
      "metadata": {
        "colab": {
          "base_uri": "https://localhost:8080/"
        },
        "id": "MDvjxOQDXOiw",
        "outputId": "d9eabe19-1b9a-407b-f286-7e9da370c110"
      },
      "source": [
        "(7108 / 35000, 25473/35000)"
      ],
      "execution_count": null,
      "outputs": [
        {
          "output_type": "execute_result",
          "data": {
            "text/plain": [
              "(0.20308571428571429, 0.7278)"
            ]
          },
          "metadata": {},
          "execution_count": 16
        }
      ]
    },
    {
      "cell_type": "code",
      "metadata": {
        "id": "nHXbQyEAXfWD"
      },
      "source": [
        "from sklearn.base import BaseEstimator, TransformerMixin\n",
        "from sklearn.impute import SimpleImputer\n",
        "from sklearn.preprocessing import OrdinalEncoder"
      ],
      "execution_count": null,
      "outputs": []
    },
    {
      "cell_type": "code",
      "metadata": {
        "id": "KEej0E108LGQ",
        "colab": {
          "base_uri": "https://localhost:8080/"
        },
        "outputId": "cbbc0ef6-a2fc-4005-b6bd-9b6c69b20227"
      },
      "source": [
        "type(df.select_dtypes(\"object\"))"
      ],
      "execution_count": null,
      "outputs": [
        {
          "output_type": "execute_result",
          "data": {
            "text/plain": [
              "pandas.core.frame.DataFrame"
            ]
          },
          "metadata": {},
          "execution_count": 9
        }
      ]
    },
    {
      "cell_type": "code",
      "metadata": {
        "colab": {
          "base_uri": "https://localhost:8080/"
        },
        "id": "y-hb7Boenl6H",
        "outputId": "dce8272f-d84e-42ce-d6a0-fe98c4d9ec21"
      },
      "source": [
        "enc = OrdinalEncoder()\n",
        "enc.fit(df.select_dtypes(\"object\"))"
      ],
      "execution_count": null,
      "outputs": [
        {
          "output_type": "execute_result",
          "data": {
            "text/plain": [
              "OrdinalEncoder(categories='auto', dtype=<class 'numpy.float64'>)"
            ]
          },
          "metadata": {},
          "execution_count": 11
        }
      ]
    },
    {
      "cell_type": "code",
      "metadata": {
        "colab": {
          "base_uri": "https://localhost:8080/"
        },
        "id": "GgibWFnIn9Zd",
        "outputId": "025d8a07-f7fb-4668-e7f1-86556634d33a"
      },
      "source": [
        "enc.categories_"
      ],
      "execution_count": null,
      "outputs": [
        {
          "output_type": "execute_result",
          "data": {
            "text/plain": [
              "[array(['MORTGAGE', 'OTHER', 'OWN', 'RENT'], dtype=object),\n",
              " array(['DEBTCONSOLIDATION', 'EDUCATION', 'HOMEIMPROVEMENT', 'MEDICAL',\n",
              "        'PERSONAL', 'VENTURE'], dtype=object),\n",
              " array(['A', 'B', 'C', 'D', 'E', 'F', 'G'], dtype=object),\n",
              " array(['N', 'Y'], dtype=object)]"
            ]
          },
          "metadata": {},
          "execution_count": 16
        }
      ]
    },
    {
      "cell_type": "code",
      "metadata": {
        "colab": {
          "base_uri": "https://localhost:8080/"
        },
        "id": "YFGXbTYdoQDs",
        "outputId": "d29f9fa6-83ce-4356-cfac-a8a3ddbc700d"
      },
      "source": [
        "enc.transform(df.select_dtypes(\"object\")).shape"
      ],
      "execution_count": null,
      "outputs": [
        {
          "output_type": "execute_result",
          "data": {
            "text/plain": [
              "(31678, 4)"
            ]
          },
          "metadata": {},
          "execution_count": 16
        }
      ]
    },
    {
      "cell_type": "code",
      "metadata": {
        "id": "xeXiil_Y191K"
      },
      "source": [
        "class TransformToNumerical(BaseEstimator, TransfomerMixin):\n",
        "    def __init__(self, object_cols):\n",
        "        "
      ],
      "execution_count": null,
      "outputs": []
    },
    {
      "cell_type": "code",
      "metadata": {
        "id": "ZbCaVpB-n82N"
      },
      "source": [
        "X_train, X_test, y_train, y_test = train_test_split()"
      ],
      "execution_count": null,
      "outputs": []
    }
  ]
}